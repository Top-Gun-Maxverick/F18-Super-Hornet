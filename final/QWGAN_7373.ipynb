{
  "nbformat": 4,
  "nbformat_minor": 0,
  "metadata": {
    "colab": {
      "provenance": [],
      "collapsed_sections": [
        "IwiXUW2Tp3jY",
        "KdTbl79Sp-Wv",
        "8fn0WHxksANf",
        "0KR8AUItsY_G",
        "TE7iqFmesmY8",
        "4o9_tVWvc5la",
        "Z_58qeXME4Z2",
        "bQG9CQ0cA1QA",
        "g5-sgQU5P05D",
        "RQpWGi3CP5oC",
        "0tRYwXhw6KJN"
      ]
    },
    "kernelspec": {
      "name": "python3",
      "display_name": "Python 3"
    },
    "language_info": {
      "name": "python"
    },
    "accelerator": "TPU"
  },
  "cells": [
    {
      "cell_type": "markdown",
      "source": [
        "## Install and Import"
      ],
      "metadata": {
        "id": "IwiXUW2Tp3jY"
      }
    },
    {
      "cell_type": "code",
      "execution_count": null,
      "metadata": {
        "colab": {
          "base_uri": "https://localhost:8080/"
        },
        "id": "_ijUUME_pvH9",
        "outputId": "c0883f08-b157-4ec1-d4ff-9f09a5e25001"
      },
      "outputs": [
        {
          "output_type": "stream",
          "name": "stdout",
          "text": [
            "\u001b[2K     \u001b[90m━━━━━━━━━━━━━━━━━━━━━━━━━━━━━━━━━━━━━━━━\u001b[0m \u001b[32m29.7/29.7 MB\u001b[0m \u001b[31m19.9 MB/s\u001b[0m eta \u001b[36m0:00:00\u001b[0m\n",
            "\u001b[?25h  Preparing metadata (setup.py) ... \u001b[?25l\u001b[?25hdone\n",
            "  Building wheel for pypi (setup.py) ... \u001b[?25l\u001b[?25hdone\n"
          ]
        }
      ],
      "source": [
        "%pip install -q rdkit pypi"
      ]
    },
    {
      "cell_type": "code",
      "source": [
        "from rdkit import Chem, RDLogger\n",
        "from rdkit.Chem.Draw import IPythonConsole, MolsToGridImage\n",
        "import tensorflow as tf\n",
        "from tensorflow import keras\n",
        "\n",
        "RDLogger.DisableLog(\"rdApp.*\")"
      ],
      "metadata": {
        "id": "heOJRdA2p23S"
      },
      "execution_count": null,
      "outputs": []
    },
    {
      "cell_type": "code",
      "source": [
        "%pip install -q pennylane"
      ],
      "metadata": {
        "colab": {
          "base_uri": "https://localhost:8080/"
        },
        "id": "EZTgMTXzJHuW",
        "outputId": "9dfb63fa-02ee-41cc-9d3e-6294c1f984a3"
      },
      "execution_count": null,
      "outputs": [
        {
          "output_type": "stream",
          "name": "stdout",
          "text": [
            "\u001b[2K     \u001b[90m━━━━━━━━━━━━━━━━━━━━━━━━━━━━━━━━━━━━━━━━\u001b[0m \u001b[32m1.5/1.5 MB\u001b[0m \u001b[31m8.3 MB/s\u001b[0m eta \u001b[36m0:00:00\u001b[0m\n",
            "\u001b[2K     \u001b[90m━━━━━━━━━━━━━━━━━━━━━━━━━━━━━━━━━━━━━━━━\u001b[0m \u001b[32m17.1/17.1 MB\u001b[0m \u001b[31m31.5 MB/s\u001b[0m eta \u001b[36m0:00:00\u001b[0m\n",
            "\u001b[2K     \u001b[90m━━━━━━━━━━━━━━━━━━━━━━━━━━━━━━━━━━━━━━━━\u001b[0m \u001b[32m2.0/2.0 MB\u001b[0m \u001b[31m44.5 MB/s\u001b[0m eta \u001b[36m0:00:00\u001b[0m\n",
            "\u001b[2K     \u001b[90m━━━━━━━━━━━━━━━━━━━━━━━━━━━━━━━━━━━━━━━━\u001b[0m \u001b[32m48.9/48.9 kB\u001b[0m \u001b[31m2.1 MB/s\u001b[0m eta \u001b[36m0:00:00\u001b[0m\n",
            "\u001b[2K     \u001b[90m━━━━━━━━━━━━━━━━━━━━━━━━━━━━━━━━━━━━━━━━\u001b[0m \u001b[32m48.3/48.3 kB\u001b[0m \u001b[31m3.3 MB/s\u001b[0m eta \u001b[36m0:00:00\u001b[0m\n",
            "\u001b[2K     \u001b[90m━━━━━━━━━━━━━━━━━━━━━━━━━━━━━━━━━━━━━━━━\u001b[0m \u001b[32m16.6/16.6 MB\u001b[0m \u001b[31m47.3 MB/s\u001b[0m eta \u001b[36m0:00:00\u001b[0m\n",
            "\u001b[?25h\u001b[31mERROR: pip's dependency resolver does not currently take into account all the packages that are installed. This behaviour is the source of the following dependency conflicts.\n",
            "orbax-checkpoint 0.3.2 requires jax>=0.4.9, but you have jax 0.3.25 which is incompatible.\u001b[0m\u001b[31m\n",
            "\u001b[0m"
          ]
        }
      ]
    },
    {
      "cell_type": "code",
      "source": [
        "import pennylane as qml\n",
        "from pennylane import numpy as np"
      ],
      "metadata": {
        "id": "VTsdPcjNJJt9"
      },
      "execution_count": null,
      "outputs": []
    },
    {
      "cell_type": "markdown",
      "source": [
        "## Dataset"
      ],
      "metadata": {
        "id": "KdTbl79Sp-Wv"
      }
    },
    {
      "cell_type": "code",
      "source": [
        "class DataHelper():\n",
        "    def __init__(self):\n",
        "        csv_path = tf.keras.utils.get_file(\"qm9.csv\", \"https://deepchemdata.s3-us-west-1.amazonaws.com/datasets/qm9.csv\")\n",
        "        self.data = list()\n",
        "        with open(csv_path, \"r\")  as fin:\n",
        "            for line in fin.readlines()[1:]:\n",
        "                self.data.append(line.split(\",\")[1])\n",
        "\n",
        "    def __getitem__(self, idx: int):\n",
        "        smiles = self.data[idx]\n",
        "        print(f\"SMILES: {smiles}\")\n",
        "        mol = Chem.MolFromSmiles(smiles)\n",
        "        print(f\"Number of Heavy Atoms: {mol.GetNumHeavyAtoms()}\")\n",
        "        return mol"
      ],
      "metadata": {
        "id": "7ipVEFo-p_jO"
      },
      "execution_count": null,
      "outputs": []
    },
    {
      "cell_type": "code",
      "source": [
        "DH = DataHelper()"
      ],
      "metadata": {
        "id": "e8K3CcLCrTnz",
        "colab": {
          "base_uri": "https://localhost:8080/"
        },
        "outputId": "9e5e4215-9f9c-4c0b-f1ce-ee1ec8396707"
      },
      "execution_count": null,
      "outputs": [
        {
          "output_type": "stream",
          "name": "stdout",
          "text": [
            "Downloading data from https://deepchemdata.s3-us-west-1.amazonaws.com/datasets/qm9.csv\n",
            "29856825/29856825 [==============================] - 1s 0us/step\n"
          ]
        }
      ]
    },
    {
      "cell_type": "markdown",
      "source": [
        "## Utilities"
      ],
      "metadata": {
        "id": "6N4SnjGJruEe"
      }
    },
    {
      "cell_type": "code",
      "source": [
        "atom_mapping = {\n",
        "    \"C\": 0,\n",
        "    0: \"C\",\n",
        "    \"N\": 1,\n",
        "    1: \"N\",\n",
        "    \"O\": 2,\n",
        "    2: \"O\",\n",
        "    \"F\": 3,\n",
        "    3: \"F\",\n",
        "}"
      ],
      "metadata": {
        "id": "y0RD5YzArqgH"
      },
      "execution_count": null,
      "outputs": []
    },
    {
      "cell_type": "code",
      "source": [
        "bond_mapping = {\n",
        "    \"SINGLE\": 0,\n",
        "    0: Chem.BondType.SINGLE,\n",
        "    \"DOUBLE\": 1,\n",
        "    1: Chem.BondType.DOUBLE,\n",
        "    \"TRIPLE\": 2,\n",
        "    2: Chem.BondType.TRIPLE,\n",
        "    \"AROMATIC\": 3,\n",
        "    3: Chem.BondType.AROMATIC,\n",
        "}"
      ],
      "metadata": {
        "id": "m5TpPuFFHobZ"
      },
      "execution_count": null,
      "outputs": []
    },
    {
      "cell_type": "code",
      "source": [
        "NUM_ATOMS = 9  # Maximum number of atoms\n",
        "ATOM_DIM = 4 + 1  # Number of atom types\n",
        "BOND_DIM = 4 + 1  # Number of bond types\n",
        "LATENT_DIM = 64  # Size of the latent space"
      ],
      "metadata": {
        "id": "brIMl_OiHrXH"
      },
      "execution_count": null,
      "outputs": []
    },
    {
      "cell_type": "code",
      "source": [
        "def smiles_to_graph(smiles):\n",
        "    # Converts SMILES to molecule object\n",
        "    molecule = Chem.MolFromSmiles(smiles)\n",
        "    # Initialize adjacency and feature tensor\n",
        "    adjacency = np.zeros((BOND_DIM, NUM_ATOMS, NUM_ATOMS), \"float32\")\n",
        "    features = np.zeros((NUM_ATOMS, ATOM_DIM), \"float32\")\n",
        "    # loop over each atom in molecule\n",
        "    for atom in molecule.GetAtoms():\n",
        "        i = atom.GetIdx()\n",
        "        atom_type = atom_mapping[atom.GetSymbol()]\n",
        "        features[i] = np.eye(ATOM_DIM)[atom_type]\n",
        "        # loop over one-hop neighbors\n",
        "        for neighbor in atom.GetNeighbors():\n",
        "            j = neighbor.GetIdx()\n",
        "            bond = molecule.GetBondBetweenAtoms(i, j)\n",
        "            bond_type_idx = bond_mapping[bond.GetBondType().name]\n",
        "            adjacency[bond_type_idx, [i, j], [j, i]] = 1\n",
        "    # Where no bond, add 1 to last channel (indicating \"non-bond\")\n",
        "    # Notice: channels-first\n",
        "    adjacency[-1, np.sum(adjacency, axis=0) == 0] = 1\n",
        "    # Where no atom, add 1 to last column (indicating \"non-atom\")\n",
        "    features[np.where(np.sum(features, axis=1) == 0)[0], -1] = 1\n",
        "    return adjacency, features"
      ],
      "metadata": {
        "id": "SPoCGkaEHuhU"
      },
      "execution_count": null,
      "outputs": []
    },
    {
      "cell_type": "code",
      "source": [
        "def graph_to_molecule(graph):\n",
        "    adjacency, features = graph\n",
        "    molecule = Chem.RWMol()\n",
        "    keep_idx = np.where(\n",
        "        (np.argmax(features, axis=1) != ATOM_DIM - 1)\n",
        "        & (np.sum(adjacency[:-1], axis=(0, 1)) != 0)\n",
        "    )[0]\n",
        "    features = features[keep_idx]\n",
        "    adjacency = adjacency[:, keep_idx, :][:, :, keep_idx]\n",
        "    for atom_type_idx in np.argmax(features, axis=1):\n",
        "        try: atom = Chem.Atom(atom_mapping[atom_type_idx])\n",
        "        except KeyError:\n",
        "            atom_type_idx = atom_type_idx.numpy()\n",
        "            atom = Chem.Atom(atom_mapping[atom_type_idx])\n",
        "            #raise RuntimeError(\"Cannot use Tensor as list index\")\n",
        "        _ = molecule.AddAtom(atom)\n",
        "    (bonds_ij, atoms_i, atoms_j) = np.where(np.triu(adjacency) == 1)\n",
        "    for (bond_ij, atom_i, atom_j) in zip(bonds_ij, atoms_i, atoms_j):\n",
        "        if atom_i == atom_j or bond_ij == BOND_DIM - 1:\n",
        "            continue\n",
        "        bond_type = bond_mapping[bond_ij]\n",
        "        molecule.AddBond(int(atom_i), int(atom_j), bond_type)\n",
        "    flag = Chem.SanitizeMol(molecule, catchErrors=True)\n",
        "    if flag != Chem.SanitizeFlags.SANITIZE_NONE: return None\n",
        "    return molecule"
      ],
      "metadata": {
        "id": "n9hxv3rtH4DG"
      },
      "execution_count": null,
      "outputs": []
    },
    {
      "cell_type": "markdown",
      "source": [
        "## Generate Training Set"
      ],
      "metadata": {
        "id": "8fn0WHxksANf"
      }
    },
    {
      "cell_type": "code",
      "source": [
        "adjacency_tensor, feature_tensor = [], []\n",
        "for smiles in DH.data[::250]:\n",
        "    adjacency, features = smiles_to_graph(smiles)\n",
        "    adjacency_tensor.append(adjacency)\n",
        "    feature_tensor.append(features)\n",
        "\n",
        "adjacency_tensor = np.array(adjacency_tensor)\n",
        "feature_tensor = np.array(feature_tensor)\n",
        "\n",
        "print(\"adjacency_tensor.shape =\", adjacency_tensor.shape)\n",
        "print(\"feature_tensor.shape =\", feature_tensor.shape)"
      ],
      "metadata": {
        "colab": {
          "base_uri": "https://localhost:8080/"
        },
        "id": "QJxvQoAwr_Mm",
        "outputId": "8d7d66a6-04b2-40a0-97ed-a70823c46e0c"
      },
      "execution_count": null,
      "outputs": [
        {
          "output_type": "stream",
          "name": "stdout",
          "text": [
            "adjacency_tensor.shape = (536, 5, 9, 9)\n",
            "feature_tensor.shape = (536, 9, 5)\n"
          ]
        }
      ]
    },
    {
      "cell_type": "markdown",
      "source": [
        "## Graph Discriminator"
      ],
      "metadata": {
        "id": "0KR8AUItsY_G"
      }
    },
    {
      "cell_type": "markdown",
      "source": [
        "### Relational Graph Convolution Layer"
      ],
      "metadata": {
        "id": "TE7iqFmesmY8"
      }
    },
    {
      "cell_type": "code",
      "source": [
        "class RelationalGraphConvLayer(keras.layers.Layer):\n",
        "    def __init__(\n",
        "        self,\n",
        "        units=128,\n",
        "        activation=\"relu\",\n",
        "        use_bias=False,\n",
        "        kernel_initializer=\"glorot_uniform\",\n",
        "        bias_initializer=\"zeros\",\n",
        "        kernel_regularizer=None,\n",
        "        bias_regularizer=None,\n",
        "        **kwargs\n",
        "    ):\n",
        "        super().__init__(**kwargs)\n",
        "\n",
        "        self.units = units\n",
        "        self.activation = keras.activations.get(activation)\n",
        "        self.use_bias = use_bias\n",
        "        self.kernel_initializer = keras.initializers.get(kernel_initializer)\n",
        "        self.bias_initializer = keras.initializers.get(bias_initializer)\n",
        "        self.kernel_regularizer = keras.regularizers.get(kernel_regularizer)\n",
        "        self.bias_regularizer = keras.regularizers.get(bias_regularizer)\n",
        "\n",
        "    def build(self, input_shape):\n",
        "        bond_dim = input_shape[0][1]\n",
        "        atom_dim = input_shape[1][2]\n",
        "\n",
        "        self.kernel = self.add_weight(\n",
        "            shape=(bond_dim, atom_dim, self.units),\n",
        "            initializer=self.kernel_initializer,\n",
        "            regularizer=self.kernel_regularizer,\n",
        "            trainable=True,\n",
        "            name=\"W\",\n",
        "            dtype=tf.float32,\n",
        "        )\n",
        "\n",
        "        if self.use_bias:\n",
        "            self.bias = self.add_weight(\n",
        "                shape=(bond_dim, 1, self.units),\n",
        "                initializer=self.bias_initializer,\n",
        "                regularizer=self.bias_regularizer,\n",
        "                trainable=True,\n",
        "                name=\"b\",\n",
        "                dtype=tf.float32,\n",
        "            )\n",
        "\n",
        "        self.built = True\n",
        "\n",
        "    def call(self, inputs, training=False):\n",
        "        adjacency, features = inputs\n",
        "        # Aggregate information from neighbors\n",
        "        x = tf.matmul(adjacency, features[:, None, :, :])\n",
        "        # Apply linear transformation\n",
        "        x = tf.matmul(x, self.kernel)\n",
        "        if self.use_bias:\n",
        "            x += self.bias\n",
        "        # Reduce bond types dim\n",
        "        x_reduced = tf.reduce_sum(x, axis=1)\n",
        "        # Apply non-linear transformation\n",
        "        return self.activation(x_reduced)"
      ],
      "metadata": {
        "id": "e8mcj6yKsmBn"
      },
      "execution_count": null,
      "outputs": []
    },
    {
      "cell_type": "markdown",
      "source": [
        "### Actual Disciminator\n",
        "It will be Classical for now"
      ],
      "metadata": {
        "id": "4o9_tVWvc5la"
      }
    },
    {
      "cell_type": "code",
      "source": [
        "def GraphDiscriminator(gconv_units, dense_units, dropout_rate, adjacency_shape, feature_shape):\n",
        "    adjacency = keras.layers.Input(shape=adjacency_shape)\n",
        "    features = keras.layers.Input(shape=feature_shape)\n",
        "    # Propagate through one or more graph convolutional layers\n",
        "    features_transformed = features\n",
        "    for units in gconv_units:\n",
        "        features_transformed = RelationalGraphConvLayer(units)([adjacency, features_transformed])\n",
        "    # Reduce 2-D representation of molecule to 1-D\n",
        "    x = keras.layers.GlobalAveragePooling1D()(features_transformed)\n",
        "    # Propagate through one or more densely connected layers\n",
        "    for units in dense_units:\n",
        "        x = keras.layers.Dense(units, activation=\"relu\")(x)\n",
        "        x = keras.layers.Dropout(dropout_rate)(x)\n",
        "    # For each molecule, output a single scalar value expressing the\n",
        "    # \"realness\" of the inputted molecule\n",
        "    x_out = keras.layers.Dense(1, dtype=\"float32\")(x)\n",
        "    return keras.Model(inputs=[adjacency, features], outputs=x_out)"
      ],
      "metadata": {
        "id": "EoGwuG_4ssSi"
      },
      "execution_count": null,
      "outputs": []
    },
    {
      "cell_type": "code",
      "source": [
        "discriminator = GraphDiscriminator(\n",
        "    gconv_units=[128, 128, 128, 128],\n",
        "    dense_units=[512, 512],\n",
        "    dropout_rate=0.2,\n",
        "    adjacency_shape=(BOND_DIM, NUM_ATOMS, NUM_ATOMS),\n",
        "    feature_shape=(NUM_ATOMS, ATOM_DIM),\n",
        ")"
      ],
      "metadata": {
        "id": "-rZ45pY-d_84"
      },
      "execution_count": null,
      "outputs": []
    },
    {
      "cell_type": "code",
      "source": [
        "discriminator.summary()"
      ],
      "metadata": {
        "colab": {
          "base_uri": "https://localhost:8080/"
        },
        "id": "EYaKlhUeem0B",
        "outputId": "250a244d-c4e6-42fb-bb9c-6e2d901c190b"
      },
      "execution_count": null,
      "outputs": [
        {
          "output_type": "stream",
          "name": "stdout",
          "text": [
            "Model: \"model\"\n",
            "__________________________________________________________________________________________________\n",
            " Layer (type)                   Output Shape         Param #     Connected to                     \n",
            "==================================================================================================\n",
            " input_1 (InputLayer)           [(None, 5, 9, 9)]    0           []                               \n",
            "                                                                                                  \n",
            " input_2 (InputLayer)           [(None, 9, 5)]       0           []                               \n",
            "                                                                                                  \n",
            " relational_graph_conv_layer (R  (None, 9, 128)      3200        ['input_1[0][0]',                \n",
            " elationalGraphConvLayer)                                         'input_2[0][0]']                \n",
            "                                                                                                  \n",
            " relational_graph_conv_layer_1   (None, 9, 128)      81920       ['input_1[0][0]',                \n",
            " (RelationalGraphConvLayer)                                       'relational_graph_conv_layer[0][\n",
            "                                                                 0]']                             \n",
            "                                                                                                  \n",
            " relational_graph_conv_layer_2   (None, 9, 128)      81920       ['input_1[0][0]',                \n",
            " (RelationalGraphConvLayer)                                       'relational_graph_conv_layer_1[0\n",
            "                                                                 ][0]']                           \n",
            "                                                                                                  \n",
            " relational_graph_conv_layer_3   (None, 9, 128)      81920       ['input_1[0][0]',                \n",
            " (RelationalGraphConvLayer)                                       'relational_graph_conv_layer_2[0\n",
            "                                                                 ][0]']                           \n",
            "                                                                                                  \n",
            " global_average_pooling1d (Glob  (None, 128)         0           ['relational_graph_conv_layer_3[0\n",
            " alAveragePooling1D)                                             ][0]']                           \n",
            "                                                                                                  \n",
            " dense (Dense)                  (None, 512)          66048       ['global_average_pooling1d[0][0]'\n",
            "                                                                 ]                                \n",
            "                                                                                                  \n",
            " dropout (Dropout)              (None, 512)          0           ['dense[0][0]']                  \n",
            "                                                                                                  \n",
            " dense_1 (Dense)                (None, 512)          262656      ['dropout[0][0]']                \n",
            "                                                                                                  \n",
            " dropout_1 (Dropout)            (None, 512)          0           ['dense_1[0][0]']                \n",
            "                                                                                                  \n",
            " dense_2 (Dense)                (None, 1)            513         ['dropout_1[0][0]']              \n",
            "                                                                                                  \n",
            "==================================================================================================\n",
            "Total params: 578,177\n",
            "Trainable params: 578,177\n",
            "Non-trainable params: 0\n",
            "__________________________________________________________________________________________________\n"
          ]
        }
      ]
    },
    {
      "cell_type": "markdown",
      "source": [
        "## Quantum Generator"
      ],
      "metadata": {
        "id": "DpRa9sesBeGt"
      }
    },
    {
      "cell_type": "markdown",
      "source": [
        "#### Quantum Dense Layer"
      ],
      "metadata": {
        "id": "Z_58qeXME4Z2"
      }
    },
    {
      "cell_type": "code",
      "source": [
        "def QuantumDenseLayer(WIRES, backend=\"default.qubit.tf\"):\n",
        "    device = qml.device(backend, WIRES)\n",
        "    weight_shapes = {\"weights\": (1, WIRES, 3)}\n",
        "\n",
        "    def QDLCircuit(inputs, weights):\n",
        "        qml.templates.AmplitudeEmbedding(inputs[0], wires=range(WIRES), normalize=True)\n",
        "        qml.templates.StronglyEntanglingLayers(weights, wires=range(WIRES))\n",
        "        return [qml.expval(qml.PauliZ(wires=i)) for i in range(WIRES)]\n",
        "\n",
        "    QDL = qml.QNode(QDLCircuit, device, interface=\"tf\")\n",
        "    return qml.qnn.KerasLayer(QDL, weight_shapes=weight_shapes, output_dim = [WIRES,])"
      ],
      "metadata": {
        "id": "JJNcCxUz8AHE"
      },
      "execution_count": null,
      "outputs": []
    },
    {
      "cell_type": "markdown",
      "source": [
        "#### Actual Graph Generator"
      ],
      "metadata": {
        "id": "bQG9CQ0cA1QA"
      }
    },
    {
      "cell_type": "code",
      "source": [
        "def GraphGenerator(dense_units, dropout_rate, latent_dim, adjacency_shape, feature_shape, batch_size=16,):\n",
        "    z = keras.layers.Input(shape=(LATENT_DIM,))\n",
        "    # Propagate through one or more densely connected layers\n",
        "    x = z\n",
        "    for units in dense_units:\n",
        "        x = keras.layers.Dense(units, activation=\"tanh\")(x)\n",
        "        x = keras.layers.Dropout(dropout_rate)(x)\n",
        "\n",
        "        qubits = int(np.log2(units))\n",
        "        QDL = QuantumDenseLayer(qubits)\n",
        "        x = QDL(x)\n",
        "\n",
        "    #x = [QDL(x[i]) for i in range(batch_size)]\n",
        "    #x = tf.convert_to_tensor(x)\n",
        "\n",
        "    # Map outputs of previous layer (x) to [continuous] adjacency tensors (x_adjacency)\n",
        "    x_adjacency = keras.layers.Dense(tf.math.reduce_prod(adjacency_shape))(x)\n",
        "    x_adjacency = keras.layers.Reshape(adjacency_shape)(x_adjacency)\n",
        "    # Symmetrify tensors in the last two dimensions\n",
        "    x_adjacency = (x_adjacency + tf.transpose(x_adjacency, (0, 1, 3, 2))) / 2\n",
        "    x_adjacency = keras.layers.Softmax(axis=1)(x_adjacency)\n",
        "    # Map outputs of previous layer (x) to [continuous] feature tensors (x_features)\n",
        "    x_features = keras.layers.Dense(tf.math.reduce_prod(feature_shape))(x)\n",
        "    x_features = keras.layers.Reshape(feature_shape)(x_features)\n",
        "    x_features = keras.layers.Softmax(axis=2)(x_features)\n",
        "    return keras.Model(inputs=z, outputs=[x_adjacency, x_features], name=\"Generator\")"
      ],
      "metadata": {
        "id": "8uSsFNdpL7D1"
      },
      "execution_count": null,
      "outputs": []
    },
    {
      "cell_type": "code",
      "source": [
        "generator = GraphGenerator(\n",
        "    dense_units=[128, 256, 512],\n",
        "    dropout_rate=0.2,\n",
        "    latent_dim=LATENT_DIM,\n",
        "    adjacency_shape=(BOND_DIM, NUM_ATOMS, NUM_ATOMS),\n",
        "    feature_shape=(NUM_ATOMS, ATOM_DIM),\n",
        ")"
      ],
      "metadata": {
        "id": "_MqgD5JuKqj9"
      },
      "execution_count": null,
      "outputs": []
    },
    {
      "cell_type": "code",
      "source": [
        "generator.summary()"
      ],
      "metadata": {
        "colab": {
          "base_uri": "https://localhost:8080/"
        },
        "id": "BEfRd_7-BWMj",
        "outputId": "33c4df37-db3d-4d9f-fd8f-1fe363d4b62c"
      },
      "execution_count": null,
      "outputs": [
        {
          "output_type": "stream",
          "name": "stdout",
          "text": [
            "Model: \"Generator\"\n",
            "__________________________________________________________________________________________________\n",
            " Layer (type)                   Output Shape         Param #     Connected to                     \n",
            "==================================================================================================\n",
            " input_3 (InputLayer)           [(None, 64)]         0           []                               \n",
            "                                                                                                  \n",
            " dense_3 (Dense)                (None, 128)          8320        ['input_3[0][0]']                \n",
            "                                                                                                  \n",
            " dropout_2 (Dropout)            (None, 128)          0           ['dense_3[0][0]']                \n",
            "                                                                                                  \n",
            " keras_layer (KerasLayer)       (None, 7)            21          ['dropout_2[0][0]']              \n",
            "                                                                                                  \n",
            " dense_4 (Dense)                (None, 256)          2048        ['keras_layer[0][0]']            \n",
            "                                                                                                  \n",
            " dropout_3 (Dropout)            (None, 256)          0           ['dense_4[0][0]']                \n",
            "                                                                                                  \n",
            " keras_layer_1 (KerasLayer)     (None, 8)            24          ['dropout_3[0][0]']              \n",
            "                                                                                                  \n",
            " dense_5 (Dense)                (None, 512)          4608        ['keras_layer_1[0][0]']          \n",
            "                                                                                                  \n",
            " dropout_4 (Dropout)            (None, 512)          0           ['dense_5[0][0]']                \n",
            "                                                                                                  \n",
            " keras_layer_2 (KerasLayer)     (None, 9)            27          ['dropout_4[0][0]']              \n",
            "                                                                                                  \n",
            " dense_6 (Dense)                (None, 405)          4050        ['keras_layer_2[0][0]']          \n",
            "                                                                                                  \n",
            " reshape (Reshape)              (None, 5, 9, 9)      0           ['dense_6[0][0]']                \n",
            "                                                                                                  \n",
            " tf.compat.v1.transpose (TFOpLa  (None, 5, 9, 9)     0           ['reshape[0][0]']                \n",
            " mbda)                                                                                            \n",
            "                                                                                                  \n",
            " tf.__operators__.add (TFOpLamb  (None, 5, 9, 9)     0           ['reshape[0][0]',                \n",
            " da)                                                              'tf.compat.v1.transpose[0][0]'] \n",
            "                                                                                                  \n",
            " dense_7 (Dense)                (None, 45)           450         ['keras_layer_2[0][0]']          \n",
            "                                                                                                  \n",
            " tf.math.truediv (TFOpLambda)   (None, 5, 9, 9)      0           ['tf.__operators__.add[0][0]']   \n",
            "                                                                                                  \n",
            " reshape_1 (Reshape)            (None, 9, 5)         0           ['dense_7[0][0]']                \n",
            "                                                                                                  \n",
            " softmax (Softmax)              (None, 5, 9, 9)      0           ['tf.math.truediv[0][0]']        \n",
            "                                                                                                  \n",
            " softmax_1 (Softmax)            (None, 9, 5)         0           ['reshape_1[0][0]']              \n",
            "                                                                                                  \n",
            "==================================================================================================\n",
            "Total params: 19,548\n",
            "Trainable params: 19,548\n",
            "Non-trainable params: 0\n",
            "__________________________________________________________________________________________________\n"
          ]
        }
      ]
    },
    {
      "cell_type": "markdown",
      "source": [
        "## Compile Final Model"
      ],
      "metadata": {
        "id": "6AhT_4VcswXo"
      }
    },
    {
      "cell_type": "markdown",
      "source": [
        "#### Hide Big Block of Code"
      ],
      "metadata": {
        "id": "g5-sgQU5P05D"
      }
    },
    {
      "cell_type": "code",
      "source": [
        "class GraphWGAN(keras.Model):\n",
        "    def __init__(\n",
        "        self,\n",
        "        generator,\n",
        "        discriminator,\n",
        "        discriminator_steps=1,\n",
        "        generator_steps=1,\n",
        "        gp_weight=10,\n",
        "        **kwargs\n",
        "    ):\n",
        "        super().__init__(**kwargs)\n",
        "        self.generator = generator\n",
        "        self.discriminator = discriminator\n",
        "        self.discriminator_steps = discriminator_steps\n",
        "        self.generator_steps = generator_steps\n",
        "        self.gp_weight = gp_weight\n",
        "        self.latent_dim = self.generator.input_shape[-1]\n",
        "\n",
        "    def compile(self, optimizer_generator, optimizer_discriminator, **kwargs):\n",
        "        super().compile(**kwargs)\n",
        "        self.optimizer_generator = optimizer_generator\n",
        "        self.optimizer_discriminator = optimizer_discriminator\n",
        "        self.metric_generator = keras.metrics.Mean(name=\"loss_gen\")\n",
        "        self.metric_discriminator = keras.metrics.Mean(name=\"loss_dis\")\n",
        "\n",
        "    def train_step(self, inputs):\n",
        "\n",
        "        if isinstance(inputs[0], tuple):\n",
        "            inputs = inputs[0]\n",
        "\n",
        "        graph_real = inputs\n",
        "\n",
        "        self.batch_size = tf.shape(inputs[0])[0]\n",
        "\n",
        "        # Train the discriminator for one or more steps\n",
        "        for _ in range(self.discriminator_steps):\n",
        "            z = tf.random.normal((self.batch_size, self.latent_dim))\n",
        "\n",
        "            with tf.GradientTape() as tape:\n",
        "                graph_generated = self.generator(z, training=True)\n",
        "                loss = self._loss_discriminator(graph_real, graph_generated)\n",
        "\n",
        "            grads = tape.gradient(loss, self.discriminator.trainable_weights)\n",
        "            self.optimizer_discriminator.apply_gradients(\n",
        "                zip(grads, self.discriminator.trainable_weights)\n",
        "            )\n",
        "            self.metric_discriminator.update_state(loss)\n",
        "\n",
        "        # Train the generator for one or more steps\n",
        "        for _ in range(self.generator_steps):\n",
        "            z = tf.random.normal((self.batch_size, self.latent_dim))\n",
        "\n",
        "            with tf.GradientTape() as tape:\n",
        "                graph_generated = self.generator(z, training=True)\n",
        "                loss = self._loss_generator(graph_generated)\n",
        "\n",
        "                grads = tape.gradient(loss, self.generator.trainable_weights)\n",
        "                self.optimizer_generator.apply_gradients(\n",
        "                    zip(grads, self.generator.trainable_weights)\n",
        "                )\n",
        "                self.metric_generator.update_state(loss)\n",
        "\n",
        "        return {m.name: m.result() for m in self.metrics}\n",
        "\n",
        "    def _loss_discriminator(self, graph_real, graph_generated):\n",
        "        logits_real = self.discriminator(graph_real, training=True)\n",
        "        logits_generated = self.discriminator(graph_generated, training=True)\n",
        "        loss = tf.reduce_mean(logits_generated) - tf.reduce_mean(logits_real)\n",
        "        loss_gp = self._gradient_penalty(graph_real, graph_generated)\n",
        "        return loss + loss_gp * self.gp_weight\n",
        "\n",
        "    def _loss_generator(self, graph_generated):\n",
        "        logits_generated = self.discriminator(graph_generated, training=True)\n",
        "        return -tf.reduce_mean(logits_generated)\n",
        "\n",
        "    def _gradient_penalty(self, graph_real, graph_generated):\n",
        "        # Unpack graphs\n",
        "        adjacency_real, features_real = graph_real\n",
        "        adjacency_generated, features_generated = graph_generated\n",
        "\n",
        "        # Generate interpolated graphs (adjacency_interp and features_interp)\n",
        "        alpha = tf.random.uniform([self.batch_size])\n",
        "        alpha = tf.reshape(alpha, (self.batch_size, 1, 1, 1))\n",
        "        adjacency_interp = (adjacency_real * alpha) + (1 - alpha) * adjacency_generated\n",
        "        alpha = tf.reshape(alpha, (self.batch_size, 1, 1))\n",
        "        features_interp = (features_real * alpha) + (1 - alpha) * features_generated\n",
        "\n",
        "        # Compute the logits of interpolated graphs\n",
        "        with tf.GradientTape() as tape:\n",
        "            tape.watch(adjacency_interp)\n",
        "            tape.watch(features_interp)\n",
        "            logits = self.discriminator(\n",
        "                [adjacency_interp, features_interp], training=True\n",
        "            )\n",
        "\n",
        "        # Compute the gradients with respect to the interpolated graphs\n",
        "        grads = tape.gradient(logits, [adjacency_interp, features_interp])\n",
        "        # Compute the gradient penalty\n",
        "        grads_adjacency_penalty = (1 - tf.norm(grads[0], axis=1)) ** 2\n",
        "        grads_features_penalty = (1 - tf.norm(grads[1], axis=2)) ** 2\n",
        "        return tf.reduce_mean(\n",
        "            tf.reduce_mean(grads_adjacency_penalty, axis=(-2, -1))\n",
        "            + tf.reduce_mean(grads_features_penalty, axis=(-1))\n",
        "        )"
      ],
      "metadata": {
        "id": "bZ4n7CVLsvv5"
      },
      "execution_count": null,
      "outputs": []
    },
    {
      "cell_type": "markdown",
      "source": [
        "#### Show Remaining Code"
      ],
      "metadata": {
        "id": "RQpWGi3CP5oC"
      }
    },
    {
      "cell_type": "code",
      "source": [
        "QWGAN = GraphWGAN(generator, discriminator)"
      ],
      "metadata": {
        "id": "QpwpW78NdK_M"
      },
      "execution_count": null,
      "outputs": []
    },
    {
      "cell_type": "code",
      "source": [
        "QWGAN.compile(optimizer_generator=keras.optimizers.Adam(5e-4), optimizer_discriminator=keras.optimizers.Adam(5e-4),)"
      ],
      "metadata": {
        "id": "VVQ74uiMdNmU"
      },
      "execution_count": null,
      "outputs": []
    },
    {
      "cell_type": "markdown",
      "source": [
        "## Train this MF\n",
        "TPUs are magical"
      ],
      "metadata": {
        "id": "VDkX3-pKfJcL"
      }
    },
    {
      "cell_type": "code",
      "source": [
        "tf.compat.v1.logging.set_verbosity(tf.compat.v1.logging.ERROR)"
      ],
      "metadata": {
        "id": "A5gv2wCpHowR"
      },
      "execution_count": null,
      "outputs": []
    },
    {
      "cell_type": "code",
      "source": [
        "QWGAN.fit([adjacency_tensor, feature_tensor], epochs=5, batch_size=1)"
      ],
      "metadata": {
        "colab": {
          "base_uri": "https://localhost:8080/"
        },
        "id": "3Ib3BJIBe2SZ",
        "outputId": "b1f0fe1c-3981-41de-b323-69f13bf80d3a"
      },
      "execution_count": null,
      "outputs": [
        {
          "output_type": "stream",
          "name": "stdout",
          "text": [
            "Epoch 1/5\n",
            "536/536 [==============================] - 1039s 2s/step - loss_gen: 4.9619 - loss_dis: -6.2859\n",
            "Epoch 2/5\n",
            "536/536 [==============================] - 1001s 2s/step - loss_gen: 2.5246 - loss_dis: -3.3199\n",
            "Epoch 3/5\n",
            "536/536 [==============================] - 982s 2s/step - loss_gen: 3.4771 - loss_dis: -2.0685\n",
            "Epoch 4/5\n",
            "536/536 [==============================] - 922s 2s/step - loss_gen: 3.6819 - loss_dis: -1.4103\n",
            "Epoch 5/5\n",
            "536/536 [==============================] - 956s 2s/step - loss_gen: 3.9990 - loss_dis: -3.2827\n"
          ]
        },
        {
          "output_type": "execute_result",
          "data": {
            "text/plain": [
              "<keras.callbacks.History at 0x7dbecb5956f0>"
            ]
          },
          "metadata": {},
          "execution_count": 26
        }
      ]
    },
    {
      "cell_type": "markdown",
      "source": [
        "### Sample Molecules"
      ],
      "metadata": {
        "id": "gn8814MZR5pJ"
      }
    },
    {
      "cell_type": "code",
      "source": [
        "def sample(generator, batch_size):\n",
        "    z = tf.random.normal((batch_size, LATENT_DIM))\n",
        "    graph = generator.predict(z)\n",
        "    # obtain one-hot encoded adjacency tensor\n",
        "    adjacency = tf.argmax(graph[0], axis=1)\n",
        "    adjacency = tf.one_hot(adjacency, depth=BOND_DIM, axis=1)\n",
        "    # Remove potential self-loops from adjacency\n",
        "    adjacency = tf.linalg.set_diag(adjacency, tf.zeros(tf.shape(adjacency)[:-1]))\n",
        "    # obtain one-hot encoded feature tensor\n",
        "    features = tf.argmax(graph[1], axis=2)\n",
        "    features = tf.one_hot(features, depth=ATOM_DIM, axis=2)\n",
        "    return [graph_to_molecule([adjacency[i].numpy(), features[i].numpy()]) for i in range(batch_size)]"
      ],
      "metadata": {
        "id": "Nv_fN5apRz5E"
      },
      "execution_count": null,
      "outputs": []
    },
    {
      "cell_type": "code",
      "source": [
        "num_sample = 1"
      ],
      "metadata": {
        "id": "Xm2SrbYD41uO"
      },
      "execution_count": null,
      "outputs": []
    },
    {
      "cell_type": "code",
      "source": [
        "molecules = []\n",
        "for i in range(num_sample):\n",
        "    molecule = sample(QWGAN.generator, batch_size=1)[0]\n",
        "    molecules.append(molecule)"
      ],
      "metadata": {
        "colab": {
          "base_uri": "https://localhost:8080/"
        },
        "id": "T3uu5z6uR5M5",
        "outputId": "405086aa-2ea8-43e7-f108-6bf8bd130c2a"
      },
      "execution_count": null,
      "outputs": [
        {
          "output_type": "stream",
          "name": "stdout",
          "text": [
            "1/1 [==============================] - 1s 1s/step\n"
          ]
        }
      ]
    },
    {
      "cell_type": "code",
      "source": [
        "MolsToGridImage([m for m in molecules if m is not None], molsPerRow=5, subImgSize=(260, 160))"
      ],
      "metadata": {
        "colab": {
          "base_uri": "https://localhost:8080/",
          "height": 177
        },
        "id": "-EWe5EsY3qG4",
        "outputId": "7e6c45df-3652-45b9-ee94-575942eebaa1"
      },
      "execution_count": null,
      "outputs": [
        {
          "output_type": "execute_result",
          "data": {
            "image/png": "[encoded data removed]",
            "text/plain": [
              "<IPython.core.display.Image object>"
            ]
          },
          "metadata": {},
          "execution_count": 62
        }
      ]
    },
    {
      "cell_type": "code",
      "source": [
        "xsample = molecules[0]"
      ],
      "metadata": {
        "id": "aTkOauks5Vrd"
      },
      "execution_count": null,
      "outputs": []
    },
    {
      "cell_type": "code",
      "source": [
        "xsample.GetNumHeavyAtoms()"
      ],
      "metadata": {
        "colab": {
          "base_uri": "https://localhost:8080/"
        },
        "id": "hjV4j_Ik5W49",
        "outputId": "d52980c1-42de-47ef-bb1b-4174786d1b45"
      },
      "execution_count": null,
      "outputs": [
        {
          "output_type": "execute_result",
          "data": {
            "text/plain": [
              "5"
            ]
          },
          "metadata": {},
          "execution_count": 64
        }
      ]
    },
    {
      "cell_type": "markdown",
      "source": [
        "### Check if Valid (Rule of 5)"
      ],
      "metadata": {
        "id": "0tRYwXhw6KJN"
      }
    },
    {
      "cell_type": "code",
      "source": [
        "from rdkit.Chem import AllChem\n",
        "from rdkit.Chem.Descriptors import ExactMolWt\n",
        "from rdkit.Chem.Lipinski import NumHAcceptors, NumHDonors\n",
        "from rdkit.Chem.Crippen import MolLogP"
      ],
      "metadata": {
        "id": "AsT6uSHm5jj_"
      },
      "execution_count": null,
      "outputs": []
    },
    {
      "cell_type": "code",
      "source": [
        "def valid_molecule(illicit_drug):\n",
        "    return all([\n",
        "        NumHAcceptors(illicit_drug) <= 10,\n",
        "        NumHDonors(illicit_drug) <= 5,\n",
        "        ExactMolWt(illicit_drug) <= 500,\n",
        "        MolLogP(illicit_drug) <= 5\n",
        "    ])"
      ],
      "metadata": {
        "id": "l4gqKejT5nzD"
      },
      "execution_count": null,
      "outputs": []
    },
    {
      "cell_type": "code",
      "source": [
        "valid_molecule(xsample)"
      ],
      "metadata": {
        "colab": {
          "base_uri": "https://localhost:8080/"
        },
        "id": "kxPaXQ7y6QS9",
        "outputId": "5dae5a65-e97d-46a1-b8e7-b09eca501735"
      },
      "execution_count": null,
      "outputs": [
        {
          "output_type": "execute_result",
          "data": {
            "text/plain": [
              "True"
            ]
          },
          "metadata": {},
          "execution_count": 73
        }
      ]
    },
    {
      "cell_type": "code",
      "source": [
        "AllChem.Compute2DCoords(xsample)\n",
        "xsample.GetConformer(0)"
      ],
      "metadata": {
        "colab": {
          "base_uri": "https://localhost:8080/"
        },
        "id": "hi4BvCOz6Scf",
        "outputId": "e22a7cdd-8ef5-4338-b5e1-8615da3f0917"
      },
      "execution_count": null,
      "outputs": [
        {
          "output_type": "execute_result",
          "data": {
            "text/plain": [
              "<rdkit.Chem.rdchem.Conformer at 0x7dbebb5a8970>"
            ]
          },
          "metadata": {},
          "execution_count": 75
        }
      ]
    },
    {
      "cell_type": "code",
      "source": [
        "for i, atom in enumerate(xsample.GetAtoms()):\n",
        "    positions = xsample.GetConformer(0).GetAtomPosition(i)\n",
        "    print(f\"{atom.GetSymbol()}, {positions.x}, {positions.y}, {positions.z}\")"
      ],
      "metadata": {
        "colab": {
          "base_uri": "https://localhost:8080/"
        },
        "id": "O_jUYZqq6UJA",
        "outputId": "cddd19dd-46dd-435c-835c-c7dff9760806"
      },
      "execution_count": null,
      "outputs": [
        {
          "output_type": "stream",
          "name": "stdout",
          "text": [
            "O, 0.7794228634059948, 0.75, 0.0\n",
            "C, -1.818653347947321, 0.7500000000000004, 0.0\n",
            "C, -0.5196152422706634, 1.1102230246251565e-16, 0.0\n",
            "C, -0.5196152422706639, -1.5000000000000002, 0.0\n",
            "C, 2.078460969082653, -2.220446049250313e-16, 0.0\n"
          ]
        }
      ]
    },
    {
      "cell_type": "markdown",
      "source": [
        "### Rush Geometry"
      ],
      "metadata": {
        "id": "s5OZ6isO6f37"
      }
    },
    {
      "cell_type": "code",
      "source": [
        "%pip -q install pyscf"
      ],
      "metadata": {
        "colab": {
          "base_uri": "https://localhost:8080/"
        },
        "id": "PL3wTq1S6htz",
        "outputId": "c49eec0e-a986-4670-a77f-41482cb02178"
      },
      "execution_count": null,
      "outputs": [
        {
          "output_type": "stream",
          "name": "stdout",
          "text": [
            "\u001b[2K     \u001b[90m━━━━━━━━━━━━━━━━━━━━━━━━━━━━━━━━━━━━━━━━\u001b[0m \u001b[32m47.2/47.2 MB\u001b[0m \u001b[31m3.8 MB/s\u001b[0m eta \u001b[36m0:00:00\u001b[0m\n",
            "\u001b[?25h"
          ]
        }
      ]
    },
    {
      "cell_type": "code",
      "source": [
        "from pyscf import scf, gto, geomopt"
      ],
      "metadata": {
        "id": "pRKBwkXz754H"
      },
      "execution_count": null,
      "outputs": []
    },
    {
      "cell_type": "code",
      "source": [
        "atom = []\n",
        "for i, symb in enumerate(xsample.GetAtoms()):\n",
        "    positions = xsample.GetConformer(0).GetAtomPosition(i)\n",
        "    atom.append([symb.GetSymbol(), (positions.x, positions.y, positions.z)])"
      ],
      "metadata": {
        "id": "LPKe_Jog76xb"
      },
      "execution_count": null,
      "outputs": []
    },
    {
      "cell_type": "code",
      "source": [
        "atom"
      ],
      "metadata": {
        "colab": {
          "base_uri": "https://localhost:8080/"
        },
        "id": "BBoRre3177pX",
        "outputId": "2252dc93-4d43-403f-97b9-0f9b8b7db6d9"
      },
      "execution_count": null,
      "outputs": [
        {
          "output_type": "execute_result",
          "data": {
            "text/plain": [
              "[['O', (0.7794228634059948, 0.75, 0.0)],\n",
              " ['C', (-1.818653347947321, 0.7500000000000004, 0.0)],\n",
              " ['C', (-0.5196152422706634, 1.1102230246251565e-16, 0.0)],\n",
              " ['C', (-0.5196152422706639, -1.5000000000000002, 0.0)],\n",
              " ['C', (2.078460969082653, -2.220446049250313e-16, 0.0)]]"
            ]
          },
          "metadata": {},
          "execution_count": 81
        }
      ]
    },
    {
      "cell_type": "code",
      "source": [
        "mol = gto.Mole()\n",
        "mol.atom = atom\n",
        "mol.build()"
      ],
      "metadata": {
        "colab": {
          "base_uri": "https://localhost:8080/"
        },
        "id": "XCNGZX_1775Z",
        "outputId": "f8cd8fac-358c-4459-f3c8-41fd5fc2f8fa"
      },
      "execution_count": null,
      "outputs": [
        {
          "output_type": "execute_result",
          "data": {
            "text/plain": [
              "<pyscf.gto.mole.Mole at 0x7dbebab7cac0>"
            ]
          },
          "metadata": {},
          "execution_count": 82
        }
      ]
    },
    {
      "cell_type": "code",
      "source": [
        "mf = scf.RHF(mol).newton()\n",
        "mf.kernel()"
      ],
      "metadata": {
        "colab": {
          "base_uri": "https://localhost:8080/"
        },
        "id": "5cLDJmzd785l",
        "outputId": "e697ce53-017e-48d1-b6f7-28d4ae2e0248"
      },
      "execution_count": null,
      "outputs": [
        {
          "output_type": "stream",
          "name": "stdout",
          "text": [
            "converged SCF energy = -222.766128152893\n"
          ]
        },
        {
          "output_type": "execute_result",
          "data": {
            "text/plain": [
              "-222.76612815289286"
            ]
          },
          "metadata": {},
          "execution_count": 83
        }
      ]
    },
    {
      "cell_type": "code",
      "source": [
        "print(f\"Dipole moment of the molecule, {mf.dip_moment()}\")"
      ],
      "metadata": {
        "colab": {
          "base_uri": "https://localhost:8080/"
        },
        "id": "hwT_Oo227-Yc",
        "outputId": "3658ea91-6555-4c32-ffad-c4b467615ebe"
      },
      "execution_count": null,
      "outputs": [
        {
          "output_type": "stream",
          "name": "stdout",
          "text": [
            "Dipole moment(X, Y, Z, Debye):  1.00096, -0.16022,  0.00000\n",
            "Dipole moment of the molecule, [ 1.00095616e+00 -1.60220095e-01  4.62102124e-09]\n"
          ]
        }
      ]
    },
    {
      "cell_type": "code",
      "source": [
        "print(f\"Total Energy: {mf.e_tot}\\n\\nOrbital Energies: {mf.mo_energy}\\n\\n Orbital Occupancy: {mf.mo_occ}\\n\\n Orbitcal coefficients: {mf.mo_coeff}\")"
      ],
      "metadata": {
        "colab": {
          "base_uri": "https://localhost:8080/"
        },
        "id": "jCBayFK78Cst",
        "outputId": "b622a453-190d-4393-b253-3e102765cd22"
      },
      "execution_count": null,
      "outputs": [
        {
          "output_type": "stream",
          "name": "stdout",
          "text": [
            "Total Energy: -222.76612815289286\n",
            "\n",
            "Orbital Energies: [-20.3464597  -11.06547604 -11.04404757 -11.02064048 -11.00168757\n",
            "  -1.30437524  -0.94754937  -0.7601305   -0.71573199  -0.53532131\n",
            "  -0.4833333   -0.42913703  -0.41010304  -0.33771872  -0.27895563\n",
            "  -0.12784121   0.09613539   0.16312028   0.16694365   0.20841381\n",
            "   0.36537314   0.46214785   0.59266725   0.75741271   0.80706101]\n",
            "\n",
            " Orbital Occupancy: [2. 2. 2. 2. 2. 2. 2. 2. 2. 2. 2. 2. 2. 2. 2. 2. 0. 0. 0. 0. 0. 0. 0. 0.\n",
            " 0.]\n",
            "\n",
            " Orbitcal coefficients: [[ 9.94408255e-01 -4.24142644e-04  1.37573592e-05 -1.27173793e-06\n",
            "  -4.76579701e-04 -2.31113146e-01 -4.30117564e-02 -4.16263535e-02\n",
            "   4.69778844e-02 -7.15214077e-02 -8.36864952e-11  9.64523802e-03\n",
            "   4.60574787e-03  1.85057695e-02 -4.05081777e-11  4.62602720e-02\n",
            "   1.11410300e-02 -1.09002436e-09  2.26492369e-03  1.96974312e-11\n",
            "   3.73935760e-11 -1.07699433e-01 -2.26832045e-03  2.61427893e-02\n",
            "  -5.92326723e-03]\n",
            " [ 2.41914484e-02  3.93360419e-03 -1.83217188e-04  1.18082635e-04\n",
            "   4.03409470e-03  8.53047277e-01  1.79103744e-01  1.85574507e-01\n",
            "  -2.11005344e-01  3.50264385e-01  4.27131249e-10 -5.36851276e-02\n",
            "  -2.78564265e-02 -9.81885050e-02  2.04915062e-10 -2.53611659e-01\n",
            "  -6.55290355e-02  5.91172128e-09 -1.25430554e-02 -1.31163754e-10\n",
            "  -2.19762831e-10  6.36584354e-01  1.32613178e-02 -1.66126149e-01\n",
            "   3.52149485e-02]\n",
            " [ 1.45186088e-04  2.33857604e-03 -1.02967247e-05 -9.49921778e-05\n",
            "  -2.40052648e-03  1.47777937e-02  1.44438007e-01 -2.28028613e-01\n",
            "   3.30098705e-01  2.76901959e-01  5.80771551e-10  2.99415466e-01\n",
            "  -1.64606851e-01  1.19243341e-01  3.91721063e-11  1.56194791e-01\n",
            "  -1.84835351e-01 -1.10750198e-08  1.13272858e-02 -1.02766086e-09\n",
            "   2.11249567e-10  1.07953229e-01  7.93611857e-01  3.74492128e-01\n",
            "   2.17551925e-01]\n",
            " [-2.60920384e-03 -1.11054160e-03  1.55624205e-04 -1.74000907e-05\n",
            "  -1.19805551e-03 -8.31464755e-02  2.07481200e-02  1.39378733e-01\n",
            "  -6.11889977e-02  4.70650663e-01 -3.47277816e-10 -4.94739762e-01\n",
            "  -2.38203958e-01 -2.96313170e-01  2.90202346e-10  7.43765242e-02\n",
            "  -3.05158824e-01 -1.18771305e-08  5.23209780e-02 -1.96449794e-09\n",
            "  -3.54841430e-11 -5.62890205e-01  5.05850043e-02  1.33207560e-01\n",
            "  -1.54836365e-01]\n",
            " [-4.70318029e-13  9.70240179e-14  3.18853017e-13 -1.19693376e-13\n",
            "   4.52099950e-13  3.67917791e-11 -7.67648433e-11  2.89229829e-10\n",
            "  -2.72337860e-10 -1.84950085e-09  8.41247152e-01 -1.49756048e-09\n",
            "   4.01178205e-10  1.17346688e-09  3.94426963e-01 -1.14306538e-09\n",
            "  -3.40376052e-09 -1.67212316e-02  1.14173685e-09  3.45226901e-01\n",
            "   2.08808283e-01 -2.67400885e-10  2.41988504e-10  1.07681165e-10\n",
            "   3.42503361e-11]\n",
            " [-7.94829565e-06  2.38174319e-06  8.37986099e-05  9.93675813e-01\n",
            "  -2.09848592e-03 -1.03312749e-02  1.11723849e-01 -1.09055339e-01\n",
            "  -1.46841176e-01 -4.88633094e-02 -1.70531417e-10 -4.82880743e-02\n",
            "  -1.22360996e-01  7.92534643e-02 -6.31191950e-11 -4.95512629e-03\n",
            "   8.50244511e-03 -3.72116534e-10 -1.14986466e-02 -1.17338889e-10\n",
            "   1.02364298e-10 -3.44397993e-02  3.28301162e-02 -7.57290078e-02\n",
            "   7.88454081e-02]\n",
            " [ 5.93693835e-05  9.15323740e-05 -1.62636812e-05  2.60808241e-02\n",
            "   5.78149434e-03  2.70296634e-02 -3.36478649e-01  3.58426493e-01\n",
            "   4.99635251e-01  1.85672401e-01  6.77384341e-10  2.05721453e-01\n",
            "   5.26679939e-01 -3.70612087e-01  5.35893357e-10  2.57140845e-02\n",
            "  -3.15023053e-02  8.47965108e-10  4.38524059e-02  3.94771667e-10\n",
            "  -4.56959648e-10  1.73363350e-01 -1.76265936e-01  4.71124167e-01\n",
            "  -4.92275126e-01]\n",
            " [ 1.85646882e-04  5.35580111e-05 -1.31595099e-05  4.80239291e-03\n",
            "   3.66700348e-03  1.67204891e-02 -1.06743655e-01  8.79652025e-02\n",
            "   4.88471783e-02 -8.20441090e-02 -1.16072412e-09 -1.30178488e-01\n",
            "  -2.78236542e-01  4.55098365e-01  1.47775756e-09  2.64709590e-01\n",
            "  -3.10957513e-01 -3.80697524e-08 -1.68392034e-01 -6.60646942e-09\n",
            "   3.93236165e-09  3.62567842e-01 -2.75897428e-01  4.47053668e-01\n",
            "  -6.25794857e-01]\n",
            " [ 2.07657876e-04 -4.83499976e-05 -4.54229812e-06 -2.77605427e-03\n",
            "  -2.09053240e-03 -4.76791484e-03  7.12890448e-02  2.45959048e-03\n",
            "  -4.99882672e-02 -3.40309230e-02 -2.18282105e-09  1.72883121e-02\n",
            "   2.39547856e-01 -1.51677589e-01  1.02291320e-08  4.70839486e-01\n",
            "  -3.45240420e-01 -9.05186172e-08 -6.35487049e-01 -1.65276822e-08\n",
            "   1.03032804e-08  2.29869940e-02  8.73183147e-02 -5.03446023e-01\n",
            "   1.89391829e-01]\n",
            " [ 3.90238123e-13 -1.92570562e-13 -4.79051875e-13  4.59697549e-12\n",
            "  -3.05770782e-12 -5.77352641e-11 -3.42252526e-10 -6.43269542e-10\n",
            "   6.62078127e-10  1.67221656e-09  7.97981596e-02  5.32097809e-10\n",
            "  -2.70107887e-09 -1.69817818e-09 -3.18962727e-01 -2.28697748e-08\n",
            "   3.57187807e-08 -6.76285402e-01  7.06420034e-08 -2.14392361e-01\n",
            "   6.49175612e-01  1.57329830e-09  6.04708345e-10 -8.19636923e-10\n",
            "  -1.34977715e-10]\n",
            " [ 4.69173369e-04  1.16309044e-03 -2.22636863e-04 -1.11367815e-03\n",
            "  -9.92483897e-01 -6.03065326e-02  1.80913152e-01 -1.00788247e-02\n",
            "   1.21546170e-02  7.95779921e-02  1.89699991e-10 -1.50920707e-03\n",
            "   8.45301728e-02 -1.16661893e-02 -2.01079989e-11 -4.21101718e-02\n",
            "  -1.99403247e-02  1.51155117e-10 -2.48646477e-03 -2.35825690e-10\n",
            "   1.22051429e-10  1.10390506e-01 -1.64966164e-01  9.99263050e-02\n",
            "  -6.10764723e-03]\n",
            " [-3.40592064e-03  3.37805270e-04  6.17995896e-03 -6.29104685e-03\n",
            "  -3.25508125e-02  1.55014461e-01 -5.24357287e-01  4.08226298e-02\n",
            "  -5.52297415e-02 -3.01704377e-01 -7.58096834e-10  2.26613821e-03\n",
            "  -3.08921590e-01  4.59566638e-02  1.12791548e-10  1.73351170e-01\n",
            "   1.05256069e-01  3.02008663e-10  8.86315563e-03  1.19376124e-09\n",
            "  -6.19972452e-10 -5.77319488e-01  9.09394699e-01 -6.57786442e-01\n",
            "   2.74043592e-02]\n",
            " [-3.21135170e-03  5.48013257e-04 -7.65239437e-06  3.93080509e-03\n",
            "   1.14700553e-03  6.56039158e-02  8.80812694e-02 -6.45895138e-02\n",
            "  -2.63751963e-01 -2.39158148e-01 -5.25926589e-10  4.85721063e-02\n",
            "   2.52447951e-01 -1.93058672e-01  8.81314771e-10  2.22645388e-01\n",
            "   9.83764186e-02 -5.12294465e-09  5.90559013e-03  2.72532323e-10\n",
            "  -8.07808292e-11 -2.82175359e-01  2.62524009e-01  9.22436115e-01\n",
            "  -4.92826841e-01]\n",
            " [-1.79136931e-03 -7.79101135e-05 -4.49453667e-03 -2.28597702e-03\n",
            "   8.09445350e-04  3.04579875e-02  5.89459502e-02  3.14133165e-01\n",
            "   6.12098491e-02 -9.70932275e-02 -3.50167447e-10 -1.69372941e-01\n",
            "   1.43167926e-01  3.46779895e-01 -2.07573650e-09  1.22556089e-01\n",
            "   4.21633253e-02 -6.62008464e-10  3.09549366e-02  2.98374267e-10\n",
            "   6.54648820e-10 -2.62789968e-01 -3.64143161e-02  4.21652727e-01\n",
            "   1.03813341e+00]\n",
            " [ 1.83435392e-13 -1.51848255e-13  6.21581715e-13  1.09115873e-12\n",
            "  -3.19711942e-12 -6.71590536e-12 -2.52505453e-12  3.52203828e-10\n",
            "   2.68920112e-10 -1.70787397e-10  3.19658630e-01 -2.72890808e-10\n",
            "  -5.25702218e-10 -1.35385120e-09 -6.40240869e-01 -2.24245431e-09\n",
            "   2.94895176e-09 -1.12716886e-01 -1.21069670e-08  5.03949888e-02\n",
            "  -7.43441966e-01 -1.28763980e-10 -4.57238178e-11  2.56023864e-10\n",
            "  -7.99369498e-11]\n",
            " [-1.86311924e-05  3.24946771e-03 -9.93688523e-01  1.49227833e-04\n",
            "  -7.45904408e-04 -1.24418043e-02  1.20591656e-01  1.59506011e-01\n",
            "   5.37070931e-02 -1.02214462e-01 -1.12599390e-10  5.88892786e-02\n",
            "  -1.06877823e-01 -6.06858735e-02  1.24046932e-10 -8.38550825e-03\n",
            "   8.03226162e-03  1.71040619e-09  1.04442032e-02  3.23087279e-10\n",
            "  -2.36363841e-10 -1.90321760e-02  5.82662743e-02 -6.12111265e-02\n",
            "  -8.16227178e-02]\n",
            " [ 1.29757608e-04  2.85202140e-04 -2.59952739e-02  2.73104788e-05\n",
            "   5.85936742e-03  3.23043327e-02 -3.67317440e-01 -5.34018601e-01\n",
            "  -1.82977426e-01  3.97912706e-01  4.33113580e-10 -2.55367588e-01\n",
            "   4.67823712e-01  2.91207098e-01 -8.55307674e-10  3.82890362e-02\n",
            "  -3.37270109e-02 -6.95703438e-09 -3.73720495e-02 -1.35759802e-09\n",
            "   1.14972360e-09  8.59958556e-02 -3.28934615e-01  3.82938621e-01\n",
            "   5.14599356e-01]\n",
            " [ 3.41348193e-04  3.74544474e-04  2.05225338e-05  4.69813785e-06\n",
            "   2.44433033e-07  5.24535854e-03  3.76156168e-03 -2.28562048e-02\n",
            "  -4.62629709e-02 -7.96012515e-02  1.78287700e-09  2.85267416e-02\n",
            "   6.54441684e-02 -7.28043875e-02 -1.08904879e-08  4.23947435e-01\n",
            "  -3.60761985e-01  3.93282361e-08  7.72725055e-01  1.16932081e-08\n",
            "  -1.03706232e-08  1.80236208e-01 -1.01538879e-01 -2.39051911e-01\n",
            "   1.06160391e-01]\n",
            " [ 9.79963229e-05  1.04351344e-04 -5.46219704e-03  1.28602507e-05\n",
            "   4.27443938e-03  1.93805329e-02 -1.35563844e-01 -9.20890461e-02\n",
            "  -3.29842686e-02 -1.08521256e-01 -4.35733791e-10  1.77470085e-01\n",
            "  -3.83120622e-01 -4.39899903e-01  3.92380063e-09  4.64652518e-02\n",
            "  -1.43016893e-01 -2.16216098e-08 -1.52090471e-01 -4.21967114e-09\n",
            "   2.28370398e-09  1.42993551e-01 -4.98914387e-01  5.13157096e-01\n",
            "   6.54956734e-01]\n",
            " [-3.89227806e-13  2.54512822e-12  5.08222490e-12 -1.10713090e-12\n",
            "   3.51071091e-12  5.48417132e-11  2.14526363e-10 -4.12942864e-11\n",
            "  -1.20122680e-09 -1.64525968e-09  1.02234299e-01  4.29342622e-10\n",
            "   1.75863076e-09 -2.10441757e-09 -4.29491247e-01  2.40523328e-08\n",
            "  -3.35721864e-08  7.28167320e-01 -6.46614096e-08 -1.56459681e-02\n",
            "   5.54520416e-01 -1.34027871e-09 -8.83407511e-11  4.50765077e-10\n",
            "  -3.32318241e-10]\n",
            " [ 4.62681618e-04 -9.93956825e-01 -3.37674327e-03  1.31594186e-05\n",
            "  -1.33547436e-03 -6.25321765e-02 -4.65901285e-02  1.09059419e-01\n",
            "  -1.69986630e-01  1.01511441e-01  2.65440758e-10  1.24436495e-01\n",
            "  -5.06736291e-03  2.70721725e-02 -1.02845235e-11 -5.47652617e-03\n",
            "  -8.79329496e-03  1.70606321e-10  2.70845199e-03  8.88207810e-11\n",
            "  -9.43742151e-11  6.83598271e-02  6.04030587e-02  1.69603187e-02\n",
            "   1.60928834e-02]\n",
            " [-3.28636395e-03 -2.38026707e-02  1.88458465e-04 -3.24242968e-05\n",
            "   3.35425386e-04  1.75648651e-01  1.52084266e-01 -3.86433800e-01\n",
            "   6.13118427e-01 -3.95046650e-01 -1.08161220e-09 -5.15764323e-01\n",
            "   2.18098872e-02 -1.20645188e-01  4.13469477e-11  1.99491633e-02\n",
            "   3.66639733e-02 -5.40991312e-10 -8.96216406e-03 -3.51485273e-10\n",
            "   3.62735938e-10 -3.20330056e-01 -2.96258490e-01 -8.65476292e-02\n",
            "  -8.50700018e-02]\n",
            " [ 3.14446692e-03  3.22657731e-03 -3.00342628e-04  4.40754239e-05\n",
            "  -4.41905782e-04 -8.60725027e-02 -4.32024795e-02  5.15670922e-02\n",
            "  -3.58843410e-02 -3.53441219e-02 -3.05475836e-10 -4.34627229e-01\n",
            "  -3.67375689e-02 -2.29542202e-01  3.88798197e-10  1.69290506e-01\n",
            "   3.72497596e-01  1.41942509e-08  6.34753101e-03  4.65703209e-09\n",
            "  -9.48504464e-10  7.26995574e-01  4.47293254e-01  9.64375942e-02\n",
            "   1.23796866e-01]\n",
            " [-1.79745670e-03 -1.80294883e-03 -2.64468312e-04  4.04590587e-05\n",
            "  -8.88127493e-05  4.50343288e-02  4.05829725e-02 -2.18623507e-02\n",
            "   5.39192308e-02  2.50876668e-01  1.45682351e-09  1.56165438e-01\n",
            "  -1.47200930e-01  4.86304267e-02  4.35801233e-10  5.92468600e-01\n",
            "   6.35769363e-01  1.29197195e-08  1.91931117e-02  7.46661740e-09\n",
            "  -8.36534775e-10 -2.17272001e-01 -3.58371332e-01 -1.03178005e-01\n",
            "  -8.86080774e-02]\n",
            " [ 1.70719863e-13 -5.17129251e-13 -2.25689857e-13  1.05352891e-13\n",
            "  -2.51332560e-13  1.83461947e-12  2.44537847e-11  1.21142296e-11\n",
            "   6.88916626e-11  3.22443720e-10  2.14452081e-01 -2.72677050e-10\n",
            "  -4.69271886e-10  2.94902913e-10  1.58562621e-01  4.36307868e-09\n",
            "   3.47197684e-09  1.31525380e-01  7.03672031e-09 -9.53454838e-01\n",
            "  -1.24672339e-01  3.86523994e-10  1.14205617e-10 -8.38699536e-11\n",
            "   3.86151832e-11]]\n"
          ]
        }
      ]
    }
  ]
}